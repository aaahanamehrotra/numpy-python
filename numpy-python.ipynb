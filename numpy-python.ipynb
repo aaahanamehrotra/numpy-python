{
 "cells": [
  {
   "cell_type": "code",
   "execution_count": 1,
   "id": "3f4e4495",
   "metadata": {},
   "outputs": [],
   "source": [
    "import numpy as np\n",
    "import sys"
   ]
  },
  {
   "cell_type": "code",
   "execution_count": 2,
   "id": "8797fe3d",
   "metadata": {},
   "outputs": [],
   "source": [
    "myarray = np.array([[2, 4, 56, 7]], np.int64) \n",
    "# The first parameter is a list of list which is converted to the Numpy array\n",
    "#  The second parameter is the datatype for each element of the array"
   ]
  },
  {
   "cell_type": "code",
   "execution_count": 3,
   "id": "4d04fc70",
   "metadata": {},
   "outputs": [
    {
     "data": {
      "text/plain": [
       "array([[ 2,  4, 56,  7]], dtype=int64)"
      ]
     },
     "execution_count": 3,
     "metadata": {},
     "output_type": "execute_result"
    }
   ],
   "source": [
    "myarray"
   ]
  },
  {
   "cell_type": "code",
   "execution_count": 4,
   "id": "60863014",
   "metadata": {},
   "outputs": [
    {
     "data": {
      "text/plain": [
       "array([ 2,  4, 56,  7], dtype=int64)"
      ]
     },
     "execution_count": 4,
     "metadata": {},
     "output_type": "execute_result"
    }
   ],
   "source": [
    "myarray[0] # prints the 0th row of the array"
   ]
  },
  {
   "cell_type": "markdown",
   "id": "a6f51963",
   "metadata": {},
   "source": [
    "#### In array_name[a, b], a refers to the row no. & b refers to the column no.\n",
    "#### It returns the bth element of the ath row\n",
    "###### eg in next 2 cells"
   ]
  },
  {
   "cell_type": "code",
   "execution_count": 5,
   "id": "cc6e98a9",
   "metadata": {},
   "outputs": [
    {
     "data": {
      "text/plain": [
       "4"
      ]
     },
     "execution_count": 5,
     "metadata": {},
     "output_type": "execute_result"
    }
   ],
   "source": [
    "myarray[0, 1] # prints the 1st element of the 0th row of the array"
   ]
  },
  {
   "cell_type": "code",
   "execution_count": 6,
   "id": "c992b0a5",
   "metadata": {},
   "outputs": [
    {
     "data": {
      "text/plain": [
       "2"
      ]
     },
     "execution_count": 6,
     "metadata": {},
     "output_type": "execute_result"
    }
   ],
   "source": [
    "myarray[0, 0] # prints the 0th element of the 0th row of the array"
   ]
  },
  {
   "cell_type": "markdown",
   "id": "372e1e9f",
   "metadata": {},
   "source": [
    "#### array_name.shape returns a tuple in which first element is the no. of rows, second element is the no. of columns\n",
    "###### eg in next cell"
   ]
  },
  {
   "cell_type": "code",
   "execution_count": 7,
   "id": "da185430",
   "metadata": {},
   "outputs": [
    {
     "data": {
      "text/plain": [
       "(1, 4)"
      ]
     },
     "execution_count": 7,
     "metadata": {},
     "output_type": "execute_result"
    }
   ],
   "source": [
    "myarray.shape"
   ]
  },
  {
   "cell_type": "code",
   "execution_count": 8,
   "id": "ffc29b03",
   "metadata": {},
   "outputs": [],
   "source": [
    "myarray[0, 1] = 45 # changes the value of the 1st element of the 0th row of the array to 45"
   ]
  },
  {
   "cell_type": "code",
   "execution_count": 9,
   "id": "46d75616",
   "metadata": {},
   "outputs": [
    {
     "name": "stdout",
     "output_type": "stream",
     "text": [
      "45\n"
     ]
    }
   ],
   "source": [
    "print(myarray[0, 1])"
   ]
  },
  {
   "cell_type": "markdown",
   "id": "1a2d7d1e",
   "metadata": {},
   "source": [
    "# creating numpy arrays using different methods"
   ]
  },
  {
   "cell_type": "markdown",
   "id": "ee7fd6d6",
   "metadata": {},
   "source": [
    "## METHOD 1 - conversion from python lists, tuples or other data structures"
   ]
  },
  {
   "cell_type": "markdown",
   "id": "5a3c5253",
   "metadata": {},
   "source": [
    "###### The paramter is a list of list which is stored as a numpy array.\n",
    "####### This method is also used in the beginning of the notebook"
   ]
  },
  {
   "cell_type": "code",
   "execution_count": 10,
   "id": "210a911b",
   "metadata": {},
   "outputs": [],
   "source": [
    "array_from_list = np.array([[2, 45, 56, 7], [5, 4, 7, 8], [6, 9, 8, 123]])"
   ]
  },
  {
   "cell_type": "code",
   "execution_count": 11,
   "id": "bc069629",
   "metadata": {},
   "outputs": [
    {
     "data": {
      "text/plain": [
       "array([[  2,  45,  56,   7],\n",
       "       [  5,   4,   7,   8],\n",
       "       [  6,   9,   8, 123]])"
      ]
     },
     "execution_count": 11,
     "metadata": {},
     "output_type": "execute_result"
    }
   ],
   "source": [
    "array_from_list"
   ]
  },
  {
   "cell_type": "code",
   "execution_count": 12,
   "id": "3a950121",
   "metadata": {},
   "outputs": [
    {
     "data": {
      "text/plain": [
       "dtype('int32')"
      ]
     },
     "execution_count": 12,
     "metadata": {},
     "output_type": "execute_result"
    }
   ],
   "source": [
    "array_from_list.dtype # prints the datatype of each element of the array"
   ]
  },
  {
   "cell_type": "code",
   "execution_count": 13,
   "id": "82e0764b",
   "metadata": {},
   "outputs": [
    {
     "data": {
      "text/plain": [
       "(3, 4)"
      ]
     },
     "execution_count": 13,
     "metadata": {},
     "output_type": "execute_result"
    }
   ],
   "source": [
    "array_from_list.shape # prints the no. of rows and no. of columns respectively"
   ]
  },
  {
   "cell_type": "code",
   "execution_count": 14,
   "id": "8bcc45b9",
   "metadata": {},
   "outputs": [
    {
     "data": {
      "text/plain": [
       "12"
      ]
     },
     "execution_count": 14,
     "metadata": {},
     "output_type": "execute_result"
    }
   ],
   "source": [
    "array_from_list.size # prints the total no.of elemants in the array"
   ]
  },
  {
   "cell_type": "code",
   "execution_count": 15,
   "id": "4e481a78",
   "metadata": {},
   "outputs": [],
   "source": [
    "array_from_set = np.array({24, 3, 45})"
   ]
  },
  {
   "cell_type": "markdown",
   "id": "33803281",
   "metadata": {},
   "source": [
    "###### array_from_set.dtype = object "
   ]
  },
  {
   "cell_type": "markdown",
   "id": "39eebec3",
   "metadata": {},
   "source": [
    "## NOTE : Avoid using arrays with dtype as objects for efficient calculations, instead use an array with dtype as *int or float*"
   ]
  },
  {
   "cell_type": "markdown",
   "id": "cac854df",
   "metadata": {},
   "source": [
    "## METHOD 2 - Using Numpy array creation functions"
   ]
  },
  {
   "cell_type": "code",
   "execution_count": 16,
   "id": "430de006",
   "metadata": {},
   "outputs": [],
   "source": [
    "array_of_zeros = np.zeros((2, 5)) # creatres an array of shape 2,5 with each element as 0."
   ]
  },
  {
   "cell_type": "code",
   "execution_count": 17,
   "id": "a2826b9b",
   "metadata": {},
   "outputs": [
    {
     "data": {
      "text/plain": [
       "array([[0., 0., 0., 0., 0.],\n",
       "       [0., 0., 0., 0., 0.]])"
      ]
     },
     "execution_count": 17,
     "metadata": {},
     "output_type": "execute_result"
    }
   ],
   "source": [
    "array_of_zeros"
   ]
  },
  {
   "cell_type": "code",
   "execution_count": 18,
   "id": "185bb9f5",
   "metadata": {},
   "outputs": [
    {
     "data": {
      "text/plain": [
       "10"
      ]
     },
     "execution_count": 18,
     "metadata": {},
     "output_type": "execute_result"
    }
   ],
   "source": [
    "array_of_zeros.dtype\n",
    "array_of_zeros.shape\n",
    "array_of_zeros.size"
   ]
  },
  {
   "cell_type": "code",
   "execution_count": 19,
   "id": "6a0b87ee",
   "metadata": {},
   "outputs": [],
   "source": [
    "aranged_array = np.arange(15) # creates an array of integers from 0 to n-1 inclusive of both 0 and n-1, \n",
    "# where n is the parameter passed to the function"
   ]
  },
  {
   "cell_type": "code",
   "execution_count": 20,
   "id": "1a3af38d",
   "metadata": {},
   "outputs": [
    {
     "data": {
      "text/plain": [
       "array([ 0,  1,  2,  3,  4,  5,  6,  7,  8,  9, 10, 11, 12, 13, 14])"
      ]
     },
     "execution_count": 20,
     "metadata": {},
     "output_type": "execute_result"
    }
   ],
   "source": [
    "aranged_array"
   ]
  },
  {
   "cell_type": "code",
   "execution_count": 21,
   "id": "6109d2a5",
   "metadata": {},
   "outputs": [],
   "source": [
    "array_using_linspace = np.linspace(1,5,12)  # returns an array of 12 equally spread numbers between 1 and 5 \n",
    "                                            # where the first element of the array is 1 and the last element is 5"
   ]
  },
  {
   "cell_type": "code",
   "execution_count": 22,
   "id": "a2107e52",
   "metadata": {},
   "outputs": [
    {
     "data": {
      "text/plain": [
       "array([1.        , 1.36363636, 1.72727273, 2.09090909, 2.45454545,\n",
       "       2.81818182, 3.18181818, 3.54545455, 3.90909091, 4.27272727,\n",
       "       4.63636364, 5.        ])"
      ]
     },
     "execution_count": 22,
     "metadata": {},
     "output_type": "execute_result"
    }
   ],
   "source": [
    "array_using_linspace"
   ]
  },
  {
   "cell_type": "code",
   "execution_count": 23,
   "id": "52a72c61",
   "metadata": {},
   "outputs": [],
   "source": [
    "empty_array = np.empty((4,6)) # creates an array of shape 4,6 with random elements"
   ]
  },
  {
   "cell_type": "code",
   "execution_count": 24,
   "id": "182ade67",
   "metadata": {},
   "outputs": [
    {
     "data": {
      "text/plain": [
       "array([[6.95192990e-310, 6.95192989e-310, 0.00000000e+000,\n",
       "        0.00000000e+000, 1.06637981e-311, 4.94065646e-324],\n",
       "       [0.00000000e+000, 0.00000000e+000, 4.04738577e-320,\n",
       "        0.00000000e+000, 1.23022346e-321, 1.06641918e-311],\n",
       "       [9.88131292e-324, 0.00000000e+000, 0.00000000e+000,\n",
       "        1.06641917e-311, 3.06320700e-322, 0.00000000e+000],\n",
       "       [0.00000000e+000, 0.00000000e+000, 0.00000000e+000,\n",
       "        0.00000000e+000, 4.94065646e-324,             nan]])"
      ]
     },
     "execution_count": 24,
     "metadata": {},
     "output_type": "execute_result"
    }
   ],
   "source": [
    "empty_array"
   ]
  },
  {
   "cell_type": "code",
   "execution_count": 25,
   "id": "db603b72",
   "metadata": {},
   "outputs": [],
   "source": [
    "empty_like_array = np.empty_like(myarray) # creates an array of the shape of the given array with random no.s"
   ]
  },
  {
   "cell_type": "code",
   "execution_count": 26,
   "id": "e8770c42",
   "metadata": {},
   "outputs": [
    {
     "data": {
      "text/plain": [
       "array([[4294967296,          0,       1276,        768]], dtype=int64)"
      ]
     },
     "execution_count": 26,
     "metadata": {},
     "output_type": "execute_result"
    }
   ],
   "source": [
    "empty_like_array"
   ]
  },
  {
   "cell_type": "code",
   "execution_count": 27,
   "id": "ad578b3e",
   "metadata": {},
   "outputs": [],
   "source": [
    "array_using_identity = np.identity(4) # creates an array of shape 4,4"
   ]
  },
  {
   "cell_type": "code",
   "execution_count": 28,
   "id": "8aad0770",
   "metadata": {},
   "outputs": [
    {
     "data": {
      "text/plain": [
       "array([[1., 0., 0., 0.],\n",
       "       [0., 1., 0., 0.],\n",
       "       [0., 0., 1., 0.],\n",
       "       [0., 0., 0., 1.]])"
      ]
     },
     "execution_count": 28,
     "metadata": {},
     "output_type": "execute_result"
    }
   ],
   "source": [
    "array_using_identity"
   ]
  },
  {
   "cell_type": "code",
   "execution_count": 29,
   "id": "6a89112b",
   "metadata": {},
   "outputs": [
    {
     "data": {
      "text/plain": [
       "(4, 4)"
      ]
     },
     "execution_count": 29,
     "metadata": {},
     "output_type": "execute_result"
    }
   ],
   "source": [
    "array_using_identity.shape"
   ]
  },
  {
   "cell_type": "markdown",
   "id": "8c5977f3",
   "metadata": {},
   "source": [
    "# Numpy Array Functions"
   ]
  },
  {
   "cell_type": "code",
   "execution_count": 30,
   "id": "d3659973",
   "metadata": {},
   "outputs": [],
   "source": [
    "array_1 = np.arange(99)"
   ]
  },
  {
   "cell_type": "code",
   "execution_count": 31,
   "id": "98587ead",
   "metadata": {},
   "outputs": [
    {
     "data": {
      "text/plain": [
       "(99,)"
      ]
     },
     "execution_count": 31,
     "metadata": {},
     "output_type": "execute_result"
    }
   ],
   "source": [
    "array_1.shape"
   ]
  },
  {
   "cell_type": "code",
   "execution_count": 32,
   "id": "fe4ae950",
   "metadata": {},
   "outputs": [],
   "source": [
    "array_2 = array_1.reshape(3,33) # creates an array with the elements of array_1 and shape 3,33\n",
    "# NOTE : This does not change array_1"
   ]
  },
  {
   "cell_type": "code",
   "execution_count": 33,
   "id": "c7697eaf",
   "metadata": {},
   "outputs": [
    {
     "data": {
      "text/plain": [
       "(3, 33)"
      ]
     },
     "execution_count": 33,
     "metadata": {},
     "output_type": "execute_result"
    }
   ],
   "source": [
    "array_1.shape\n",
    "array_2.shape"
   ]
  },
  {
   "cell_type": "code",
   "execution_count": 34,
   "id": "cb05c381",
   "metadata": {},
   "outputs": [
    {
     "data": {
      "text/plain": [
       "array([[ 0,  1,  2,  3,  4,  5,  6,  7,  8,  9, 10, 11, 12, 13, 14, 15,\n",
       "        16, 17, 18, 19, 20, 21, 22, 23, 24, 25, 26, 27, 28, 29, 30, 31,\n",
       "        32],\n",
       "       [33, 34, 35, 36, 37, 38, 39, 40, 41, 42, 43, 44, 45, 46, 47, 48,\n",
       "        49, 50, 51, 52, 53, 54, 55, 56, 57, 58, 59, 60, 61, 62, 63, 64,\n",
       "        65],\n",
       "       [66, 67, 68, 69, 70, 71, 72, 73, 74, 75, 76, 77, 78, 79, 80, 81,\n",
       "        82, 83, 84, 85, 86, 87, 88, 89, 90, 91, 92, 93, 94, 95, 96, 97,\n",
       "        98]])"
      ]
     },
     "execution_count": 34,
     "metadata": {},
     "output_type": "execute_result"
    }
   ],
   "source": [
    "array_2"
   ]
  },
  {
   "cell_type": "code",
   "execution_count": 35,
   "id": "1aa17194",
   "metadata": {},
   "outputs": [],
   "source": [
    "array_3 = array_2.ravel() # creates a 1D array with all the elements of array_2\n",
    "# NOTE : This does not change array"
   ]
  },
  {
   "cell_type": "code",
   "execution_count": 36,
   "id": "13f41011",
   "metadata": {},
   "outputs": [
    {
     "data": {
      "text/plain": [
       "(99,)"
      ]
     },
     "execution_count": 36,
     "metadata": {},
     "output_type": "execute_result"
    }
   ],
   "source": [
    "array_3.shape"
   ]
  },
  {
   "cell_type": "code",
   "execution_count": 37,
   "id": "615a961b",
   "metadata": {},
   "outputs": [
    {
     "data": {
      "text/plain": [
       "array([ 0,  1,  2,  3,  4,  5,  6,  7,  8,  9, 10, 11, 12, 13, 14, 15, 16,\n",
       "       17, 18, 19, 20, 21, 22, 23, 24, 25, 26, 27, 28, 29, 30, 31, 32, 33,\n",
       "       34, 35, 36, 37, 38, 39, 40, 41, 42, 43, 44, 45, 46, 47, 48, 49, 50,\n",
       "       51, 52, 53, 54, 55, 56, 57, 58, 59, 60, 61, 62, 63, 64, 65, 66, 67,\n",
       "       68, 69, 70, 71, 72, 73, 74, 75, 76, 77, 78, 79, 80, 81, 82, 83, 84,\n",
       "       85, 86, 87, 88, 89, 90, 91, 92, 93, 94, 95, 96, 97, 98])"
      ]
     },
     "execution_count": 37,
     "metadata": {},
     "output_type": "execute_result"
    }
   ],
   "source": [
    "array_3"
   ]
  },
  {
   "cell_type": "markdown",
   "id": "5cd89c44",
   "metadata": {},
   "source": [
    "# axis in numpy"
   ]
  },
  {
   "cell_type": "markdown",
   "id": "d2437575",
   "metadata": {},
   "source": [
    "### A 1D array has only one axis i.e. axis0\n",
    "### A 2D array has only one axis i.e. axis0 and axis1\n",
    "### and so on..."
   ]
  },
  {
   "cell_type": "markdown",
   "id": "e2d346bb",
   "metadata": {},
   "source": [
    "In a 2D array, the vertical axis, is axis 0 (spans the columns)\n",
    "               the horizontal axis, is axis 1 (spans the rows)"
   ]
  },
  {
   "cell_type": "markdown",
   "id": "282deccd",
   "metadata": {},
   "source": [
    "example: array = [[1, 4, 8],[5, 2, 3],[6, 9, 0],[2, 5, 6]]\n",
    "##### In the above array,\n",
    "\n",
    "#    axis1\n",
    "#    -------------->\n",
    "#   a| 1 4 8\n",
    "#   x| 5 2 3\n",
    "#    i| 6 9 0\n",
    "#   s| 2 5 6\n",
    "#   0|\n",
    "#      \\\\/\n",
    "    "
   ]
  },
  {
   "cell_type": "code",
   "execution_count": 38,
   "id": "57ce622b",
   "metadata": {},
   "outputs": [],
   "source": [
    "array_4 = np.array([[1, 4, 8],[5, 2, 3],[6, 9, 0],[2, 5, 6]])"
   ]
  },
  {
   "cell_type": "code",
   "execution_count": 39,
   "id": "4c2b1ce6",
   "metadata": {},
   "outputs": [
    {
     "data": {
      "text/plain": [
       "array([[1, 4, 8],\n",
       "       [5, 2, 3],\n",
       "       [6, 9, 0],\n",
       "       [2, 5, 6]])"
      ]
     },
     "execution_count": 39,
     "metadata": {},
     "output_type": "execute_result"
    }
   ],
   "source": [
    "array_4"
   ]
  },
  {
   "cell_type": "code",
   "execution_count": 40,
   "id": "16f931b7",
   "metadata": {},
   "outputs": [
    {
     "data": {
      "text/plain": [
       "array([14, 20, 17])"
      ]
     },
     "execution_count": 40,
     "metadata": {},
     "output_type": "execute_result"
    }
   ],
   "source": [
    "array_4.sum(axis=0) # returns an array of the sum of the elements of each column"
   ]
  },
  {
   "cell_type": "code",
   "execution_count": 41,
   "id": "37f499a6",
   "metadata": {},
   "outputs": [
    {
     "data": {
      "text/plain": [
       "array([13, 10, 15, 13])"
      ]
     },
     "execution_count": 41,
     "metadata": {},
     "output_type": "execute_result"
    }
   ],
   "source": [
    "array_4.sum(axis=1) # returns an array of the sum of the elements of each row"
   ]
  },
  {
   "cell_type": "code",
   "execution_count": 42,
   "id": "8ae1bfef",
   "metadata": {},
   "outputs": [],
   "source": [
    "array_5 = array_4.T # Transposes the array i.e. the rows becomes the columns and the columns become the rows\n",
    "# NOTE : This does not change array_4"
   ]
  },
  {
   "cell_type": "code",
   "execution_count": 43,
   "id": "5b224d6f",
   "metadata": {},
   "outputs": [],
   "source": [
    "iterable = array_4.flat # creates an iterable with all the elememts of array_3\n",
    "# first it uses all the elements of row0, row1, row2 and so on in order\n",
    "# NOTE : This does not change array_4"
   ]
  },
  {
   "cell_type": "code",
   "execution_count": 44,
   "id": "7c7ca7b1",
   "metadata": {},
   "outputs": [
    {
     "name": "stdout",
     "output_type": "stream",
     "text": [
      "1\n",
      "4\n",
      "8\n",
      "5\n",
      "2\n",
      "3\n",
      "6\n",
      "9\n",
      "0\n",
      "2\n",
      "5\n",
      "6\n"
     ]
    }
   ],
   "source": [
    "for i in iterable:\n",
    "    print(i)"
   ]
  },
  {
   "cell_type": "code",
   "execution_count": 45,
   "id": "692474d5",
   "metadata": {},
   "outputs": [
    {
     "data": {
      "text/plain": [
       "2"
      ]
     },
     "execution_count": 45,
     "metadata": {},
     "output_type": "execute_result"
    }
   ],
   "source": [
    "array_4.ndim # returns the no. of attributes in the array"
   ]
  },
  {
   "cell_type": "code",
   "execution_count": 46,
   "id": "76e543be",
   "metadata": {},
   "outputs": [
    {
     "data": {
      "text/plain": [
       "48"
      ]
     },
     "execution_count": 46,
     "metadata": {},
     "output_type": "execute_result"
    }
   ],
   "source": [
    "array_4.nbytes # returns the total no. of bytes consumed for storing the array"
   ]
  },
  {
   "cell_type": "code",
   "execution_count": 47,
   "id": "bf526327",
   "metadata": {},
   "outputs": [],
   "source": [
    "array_6 = np.array([1, 2, 4, 77, 8])"
   ]
  },
  {
   "cell_type": "code",
   "execution_count": 48,
   "id": "ec6cde0d",
   "metadata": {},
   "outputs": [
    {
     "data": {
      "text/plain": [
       "array([ 1,  2,  4, 77,  8])"
      ]
     },
     "execution_count": 48,
     "metadata": {},
     "output_type": "execute_result"
    }
   ],
   "source": [
    "array_6"
   ]
  },
  {
   "cell_type": "code",
   "execution_count": 49,
   "id": "6a9131f7",
   "metadata": {},
   "outputs": [
    {
     "data": {
      "text/plain": [
       "3"
      ]
     },
     "execution_count": 49,
     "metadata": {},
     "output_type": "execute_result"
    }
   ],
   "source": [
    "array_6.argmax() # returns the index of the largest no. in the array"
   ]
  },
  {
   "cell_type": "code",
   "execution_count": 50,
   "id": "cf41e198",
   "metadata": {},
   "outputs": [
    {
     "data": {
      "text/plain": [
       "0"
      ]
     },
     "execution_count": 50,
     "metadata": {},
     "output_type": "execute_result"
    }
   ],
   "source": [
    "array_6.argmin() # returns the index of the smallest no. in the array"
   ]
  },
  {
   "cell_type": "code",
   "execution_count": 51,
   "id": "671e472d",
   "metadata": {},
   "outputs": [
    {
     "data": {
      "text/plain": [
       "array([0, 1, 2, 4, 3], dtype=int64)"
      ]
     },
     "execution_count": 51,
     "metadata": {},
     "output_type": "execute_result"
    }
   ],
   "source": [
    "array_6.argsort() # creates an array of indices of the values of array_6 in order from smallest to largest\n",
    "# NOTE : This does not change array_6"
   ]
  },
  {
   "cell_type": "code",
   "execution_count": 52,
   "id": "26d6cbfb",
   "metadata": {},
   "outputs": [
    {
     "data": {
      "text/plain": [
       "8"
      ]
     },
     "execution_count": 52,
     "metadata": {},
     "output_type": "execute_result"
    }
   ],
   "source": [
    "array_4.argmin() # return the index of the smallest no. in the array. \n",
    "# output is the same as the output obtained from array_4.ravel().argmin()"
   ]
  },
  {
   "cell_type": "code",
   "execution_count": 53,
   "id": "b122c230",
   "metadata": {},
   "outputs": [
    {
     "data": {
      "text/plain": [
       "7"
      ]
     },
     "execution_count": 53,
     "metadata": {},
     "output_type": "execute_result"
    }
   ],
   "source": [
    "array_4.argmax() # return the index of the largest no. in the array. \n",
    "# output is the same as the output obtained from array_4.ravel().argmax()"
   ]
  },
  {
   "cell_type": "code",
   "execution_count": 54,
   "id": "b895a359",
   "metadata": {},
   "outputs": [
    {
     "data": {
      "text/plain": [
       "array([2, 2, 0], dtype=int64)"
      ]
     },
     "execution_count": 54,
     "metadata": {},
     "output_type": "execute_result"
    }
   ],
   "source": [
    "array_4.argmax(axis=0) # returns the index of the largest element in each column"
   ]
  },
  {
   "cell_type": "code",
   "execution_count": 55,
   "id": "8fbbecc3",
   "metadata": {},
   "outputs": [
    {
     "data": {
      "text/plain": [
       "array([2, 0, 1, 2], dtype=int64)"
      ]
     },
     "execution_count": 55,
     "metadata": {},
     "output_type": "execute_result"
    }
   ],
   "source": [
    "array_4.argmax(axis=1) # returns the index of the largest element in each row"
   ]
  },
  {
   "cell_type": "code",
   "execution_count": 56,
   "id": "55674056",
   "metadata": {},
   "outputs": [
    {
     "data": {
      "text/plain": [
       "array([0, 1, 2], dtype=int64)"
      ]
     },
     "execution_count": 56,
     "metadata": {},
     "output_type": "execute_result"
    }
   ],
   "source": [
    "array_4.argmin(axis=0) # returns the index of the smallest element in each column"
   ]
  },
  {
   "cell_type": "code",
   "execution_count": 57,
   "id": "b7afeee1",
   "metadata": {},
   "outputs": [
    {
     "data": {
      "text/plain": [
       "array([0, 1, 2, 0], dtype=int64)"
      ]
     },
     "execution_count": 57,
     "metadata": {},
     "output_type": "execute_result"
    }
   ],
   "source": [
    "array_4.argmin(axis=1) # returns the index of the smallest element in each column"
   ]
  },
  {
   "cell_type": "code",
   "execution_count": 58,
   "id": "c7b299f1",
   "metadata": {},
   "outputs": [
    {
     "data": {
      "text/plain": [
       "array([[0, 1, 2],\n",
       "       [3, 0, 1],\n",
       "       [1, 3, 3],\n",
       "       [2, 2, 0]], dtype=int64)"
      ]
     },
     "execution_count": 58,
     "metadata": {},
     "output_type": "execute_result"
    }
   ],
   "source": [
    "array_4.argsort(axis=0) # creates an array of indices of the values of each column of array_4 in order from smallest to largest\n",
    "# NOTE : This does not change array_4"
   ]
  },
  {
   "cell_type": "code",
   "execution_count": 59,
   "id": "aca6efcf",
   "metadata": {},
   "outputs": [
    {
     "data": {
      "text/plain": [
       "array([[0, 1, 2],\n",
       "       [1, 2, 0],\n",
       "       [2, 0, 1],\n",
       "       [0, 1, 2]], dtype=int64)"
      ]
     },
     "execution_count": 59,
     "metadata": {},
     "output_type": "execute_result"
    }
   ],
   "source": [
    "array_4.argsort(axis=1) # creates an array of indices of the values of each row of array_4 in order from smallest to largest\n",
    "# NOTE : This does not change array_4"
   ]
  },
  {
   "cell_type": "code",
   "execution_count": 60,
   "id": "bc6d4aa6",
   "metadata": {},
   "outputs": [],
   "source": [
    "array_7 = np.array([[1, 0, 4], [3, 6, 7], [4, 3, 2]])"
   ]
  },
  {
   "cell_type": "code",
   "execution_count": 61,
   "id": "4932c84a",
   "metadata": {},
   "outputs": [],
   "source": [
    "array_8 = np.array([[2, 6, 4], [3, 2, 5], [7, 9, 8]])"
   ]
  },
  {
   "cell_type": "code",
   "execution_count": 62,
   "id": "258f0a5c",
   "metadata": {},
   "outputs": [
    {
     "data": {
      "text/plain": [
       "array([[ 3,  6,  8],\n",
       "       [ 6,  8, 12],\n",
       "       [11, 12, 10]])"
      ]
     },
     "execution_count": 62,
     "metadata": {},
     "output_type": "execute_result"
    }
   ],
   "source": [
    "array_7 + array_8 # returns an array of the sums of values at corresponding indices"
   ]
  },
  {
   "cell_type": "code",
   "execution_count": 63,
   "id": "5415c4e8",
   "metadata": {},
   "outputs": [
    {
     "data": {
      "text/plain": [
       "array([[-1, -6,  0],\n",
       "       [ 0,  4,  2],\n",
       "       [-3, -6, -6]])"
      ]
     },
     "execution_count": 63,
     "metadata": {},
     "output_type": "execute_result"
    }
   ],
   "source": [
    "array_7 - array_8 # returns an array of the differences of values at corresponding indices"
   ]
  },
  {
   "cell_type": "code",
   "execution_count": 64,
   "id": "3560455b",
   "metadata": {},
   "outputs": [
    {
     "data": {
      "text/plain": [
       "array([[ 2,  0, 16],\n",
       "       [ 9, 12, 35],\n",
       "       [28, 27, 16]])"
      ]
     },
     "execution_count": 64,
     "metadata": {},
     "output_type": "execute_result"
    }
   ],
   "source": [
    "array_7 * array_8 # returns an array of the products of values at corresponding indices"
   ]
  },
  {
   "cell_type": "code",
   "execution_count": 65,
   "id": "3b953e06",
   "metadata": {},
   "outputs": [
    {
     "data": {
      "text/plain": [
       "array([[0.5       , 0.        , 1.        ],\n",
       "       [1.        , 3.        , 1.4       ],\n",
       "       [0.57142857, 0.33333333, 0.25      ]])"
      ]
     },
     "execution_count": 65,
     "metadata": {},
     "output_type": "execute_result"
    }
   ],
   "source": [
    "array_7 / array_8 # returns an array of the results of division of values at corresponding indices"
   ]
  },
  {
   "cell_type": "code",
   "execution_count": 66,
   "id": "83fd62f5",
   "metadata": {},
   "outputs": [
    {
     "data": {
      "text/plain": [
       "array([[0, 0, 1],\n",
       "       [1, 3, 1],\n",
       "       [0, 0, 0]], dtype=int32)"
      ]
     },
     "execution_count": 66,
     "metadata": {},
     "output_type": "execute_result"
    }
   ],
   "source": [
    "array_7 // array_8 # returns an array of the remainders of division of values at corresponding indices"
   ]
  },
  {
   "cell_type": "code",
   "execution_count": 67,
   "id": "c3bf9a9b",
   "metadata": {},
   "outputs": [
    {
     "data": {
      "text/plain": [
       "array([[1.        , 0.        , 2.        ],\n",
       "       [1.73205081, 2.44948974, 2.64575131],\n",
       "       [2.        , 1.73205081, 1.41421356]])"
      ]
     },
     "execution_count": 67,
     "metadata": {},
     "output_type": "execute_result"
    }
   ],
   "source": [
    "np.sqrt(array_7) # returns an array of the square root of each value in the array"
   ]
  },
  {
   "cell_type": "code",
   "execution_count": 68,
   "id": "cad513a4",
   "metadata": {},
   "outputs": [
    {
     "data": {
      "text/plain": [
       "30"
      ]
     },
     "execution_count": 68,
     "metadata": {},
     "output_type": "execute_result"
    }
   ],
   "source": [
    "array_7.sum() # returns the sum of all the elements of the array"
   ]
  },
  {
   "cell_type": "code",
   "execution_count": 69,
   "id": "20096bf3",
   "metadata": {},
   "outputs": [
    {
     "data": {
      "text/plain": [
       "7"
      ]
     },
     "execution_count": 69,
     "metadata": {},
     "output_type": "execute_result"
    }
   ],
   "source": [
    "array_7.max() # returns the maximum value in the array"
   ]
  },
  {
   "cell_type": "code",
   "execution_count": 70,
   "id": "ae67ec72",
   "metadata": {},
   "outputs": [
    {
     "data": {
      "text/plain": [
       "0"
      ]
     },
     "execution_count": 70,
     "metadata": {},
     "output_type": "execute_result"
    }
   ],
   "source": [
    "array_7.min() # returns the minimum value in the array"
   ]
  },
  {
   "cell_type": "code",
   "execution_count": 71,
   "id": "03ab3aab",
   "metadata": {},
   "outputs": [
    {
     "data": {
      "text/plain": [
       "(array([1, 1], dtype=int64), array([1, 2], dtype=int64))"
      ]
     },
     "execution_count": 71,
     "metadata": {},
     "output_type": "execute_result"
    }
   ],
   "source": [
    "np.where(array_7>4) # returns a tuple of indices of the array where the value is greater than 4"
   ]
  },
  {
   "cell_type": "code",
   "execution_count": 72,
   "id": "1b2e1e58",
   "metadata": {},
   "outputs": [
    {
     "data": {
      "text/plain": [
       "8"
      ]
     },
     "execution_count": 72,
     "metadata": {},
     "output_type": "execute_result"
    }
   ],
   "source": [
    "np.count_nonzero(array_7) # returns the total no. of elements which are not 0"
   ]
  },
  {
   "cell_type": "code",
   "execution_count": 73,
   "id": "5e63ffd9",
   "metadata": {},
   "outputs": [
    {
     "data": {
      "text/plain": [
       "(array([0, 0, 1, 1, 1, 2, 2, 2], dtype=int64),\n",
       " array([0, 2, 0, 1, 2, 0, 1, 2], dtype=int64))"
      ]
     },
     "execution_count": 73,
     "metadata": {},
     "output_type": "execute_result"
    }
   ],
   "source": [
    "np.nonzero(array_7) # returns a tuple with one element for each axis where the value is not 0"
   ]
  },
  {
   "cell_type": "code",
   "execution_count": 74,
   "id": "675b3b8b",
   "metadata": {},
   "outputs": [
    {
     "data": {
      "text/plain": [
       "[[1, 0, 4], [3, 6, 7], [4, 3, 2]]"
      ]
     },
     "execution_count": 74,
     "metadata": {},
     "output_type": "execute_result"
    }
   ],
   "source": [
    "array_7.tolist() # creates a python list with the same elements as in the numpy array\n",
    "# NOTE : This does not change array_7"
   ]
  },
  {
   "cell_type": "markdown",
   "id": "b279b26b",
   "metadata": {},
   "source": [
    "## Comparing the space occupied by identical python lists and numpy arrays"
   ]
  },
  {
   "cell_type": "code",
   "execution_count": 75,
   "id": "46fee6c4",
   "metadata": {},
   "outputs": [],
   "source": [
    "python_list = [0,4,55,2]"
   ]
  },
  {
   "cell_type": "code",
   "execution_count": 76,
   "id": "f15029c7",
   "metadata": {},
   "outputs": [],
   "source": [
    "np_array = np.array(python_list)"
   ]
  },
  {
   "cell_type": "code",
   "execution_count": 77,
   "id": "efb43f92",
   "metadata": {},
   "outputs": [
    {
     "data": {
      "text/plain": [
       "112"
      ]
     },
     "execution_count": 77,
     "metadata": {},
     "output_type": "execute_result"
    }
   ],
   "source": [
    "sys.getsizeof(1) * len(python_list) # returns the space occupied by the python list"
   ]
  },
  {
   "cell_type": "code",
   "execution_count": 78,
   "id": "b3b1fdae",
   "metadata": {},
   "outputs": [
    {
     "data": {
      "text/plain": [
       "16"
      ]
     },
     "execution_count": 78,
     "metadata": {},
     "output_type": "execute_result"
    }
   ],
   "source": [
    "np_array.itemsize * np_array.size # returns the space occupied by the numpy array"
   ]
  },
  {
   "cell_type": "code",
   "execution_count": 79,
   "id": "bb8ad022",
   "metadata": {},
   "outputs": [],
   "source": [
    "###### Therefore, one advantage of numpy arrays is that it uses less storage space."
   ]
  }
 ],
 "metadata": {
  "kernelspec": {
   "display_name": "Python 3",
   "language": "python",
   "name": "python3"
  },
  "language_info": {
   "codemirror_mode": {
    "name": "ipython",
    "version": 3
   },
   "file_extension": ".py",
   "mimetype": "text/x-python",
   "name": "python",
   "nbconvert_exporter": "python",
   "pygments_lexer": "ipython3",
   "version": "3.8.10"
  }
 },
 "nbformat": 4,
 "nbformat_minor": 5
}
